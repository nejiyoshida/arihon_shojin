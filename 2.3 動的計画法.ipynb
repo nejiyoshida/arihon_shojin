{
 "cells": [
  {
   "cell_type": "markdown",
   "metadata": {},
   "source": [
    "## 動的計画法\n",
    "全状態を探索すると計算時間が膨大になるから（同じ計算を繰り返すことによる）、一度計算した部分を保存しておいて再利用（メモ化）\n",
    "どんな問題も無限の資源があれば全組み合わせを試して解くことができるが、それらの中には部分的に同じものがあるので、そういった繰り返しを避けられるのがメリット  \n",
    "DPのDはDynamic ArrayのDか  "
   ]
  },
  {
   "cell_type": "code",
   "execution_count": 17,
   "metadata": {},
   "outputs": [
    {
     "name": "stdout",
     "output_type": "stream",
     "text": [
      "4 5\n",
      "2 3\n",
      "1 2\n",
      "3 4\n",
      "2 2\n",
      "-- 0 5\n",
      "-- 1 5\n",
      "-- 2 5\n",
      "-- 3 5\n",
      "-- 4 5\n",
      "-- 4 3\n",
      "-- 3 2\n",
      "-- 4 2\n",
      "-- 4 0\n",
      "-- 2 4\n",
      "-- 3 4\n",
      "-- 4 4\n",
      "-- 4 2\n",
      "-- 3 1\n",
      "-- 4 1\n",
      "-- 1 3\n",
      "-- 2 3\n",
      "-- 3 3\n",
      "-- 4 3\n",
      "-- 4 1\n",
      "-- 3 0\n",
      "-- 4 0\n",
      "-- 2 2\n",
      "-- 3 2\n",
      "7\n",
      "[[-1, -1, -1, -1, -1, 7], [-1, -1, -1, 4, -1, 6], [-1, -1, 2, 4, 4, 6], [0, 0, 2, 2, 2, 2], [0, 0, 0, 0, 0, 0]]\n"
     ]
    }
   ],
   "source": [
    "#01\n",
    "\"\"\"\n",
    "引数の組は高々品物の数と重さの積通り\n",
    "i番目以降の品物から選んだ時、重さがjを超えない最大の価値\n",
    "品物を詰めるたびにjをその品の重さだけ減らす\n",
    "よくある方法では、i番目まで選べるとき重さがjを超えない最大価値みたいにDPを組むが、\n",
    "やってること自体にそんなに差はない。DPはいろんな置き方があるのでいろいろできるといいか。\n",
    "でもいつもの２重forのほうが分かりやすい\n",
    "\n",
    "\"\"\"\n",
    "N,W = map(int, input().split())\n",
    "wv = [list(map(int, input().split())) for _ in range(N)]\n",
    "\n",
    "dp = [[-1 for _ in range(W+1)] for _ in range(N+1)]\n",
    "\n",
    "# i番目以降から重さの総和がｊ以下になるよう選ぶ\n",
    "def solve(i,j):\n",
    "    # 探索済み\n",
    "    print(\"--\", i,j)\n",
    "    if dp[i][j] >= 0:\n",
    "        return dp[i][j]\n",
    "    res = 0\n",
    "    # 全部調べた\n",
    "    if i == N:\n",
    "        res = 0\n",
    "    # i番目のwが制限より大きいので選べない\n",
    "    elif  j < wv[i][0]:\n",
    "        # 次以降の品をみる\n",
    "        res = solve(i+1, j)\n",
    "    else:\n",
    "        # i番目を入れる場合と入れない場合の両方の大きいほうについてみて大きいほうを選ぶ\n",
    "        res = max(solve(i+1, j), solve(i+1, j - wv[i][0]) + wv[i][1])\n",
    "    dp[i][j] = res\n",
    "    return dp[i][j]\n",
    "\n",
    "solve(0,W)\n",
    "print(dp[0][W])\n",
    "print(dp)"
   ]
  },
  {
   "cell_type": "code",
   "execution_count": 23,
   "metadata": {},
   "outputs": [
    {
     "name": "stdout",
     "output_type": "stream",
     "text": [
      "4 5\n",
      "2 3\n",
      "1 2\n",
      "3 4\n",
      "2 2\n",
      "7\n",
      "[[0, 0, 3, 3, 3, 3], [0, 2, 3, 5, 5, 5], [0, 2, 3, 5, 6, 7], [0, 2, 3, 5, 6, 7]]\n"
     ]
    }
   ],
   "source": [
    "\n",
    "\"\"\"\n",
    "２重for ver\n",
    "漸化式でやるやつ\n",
    "個人的にこっちの方がメモ化より好き\n",
    "\"\"\"\n",
    "N,W = map(int, input().split())\n",
    "wv = [list(map(int, input().split())) for _ in range(N)]\n",
    "\n",
    "dp = [[0 for _ in range(W+1)] for _ in range(N)]\n",
    "\n",
    "for i in range(N):\n",
    "    for j in range(W+1):\n",
    "        # i番目の品の重さが制限を超えるなら選べない\n",
    "        if wv[i][0] > j:\n",
    "            if i == 0:\n",
    "                dp[i][j] = 0\n",
    "            else:\n",
    "                dp[i][j] = dp[i-1][j]\n",
    "        else:\n",
    "            # i番目を選んだ場合と選ばなかった場合の大きい方\n",
    "            dp[i][j] = max(dp[i-1][j], dp[i-1][j - wv[i][0]] + wv[i][1])\n",
    "            \n",
    "print(dp[N-1][W])\n",
    "print(dp)"
   ]
  },
  {
   "cell_type": "markdown",
   "metadata": {},
   "source": [
    "## 最長共通部分列（LCS）問題\n",
    "典型問題なのでマスターしたい。  \n",
    "dp(i,j)：Sのi文字目までとTのj文字目までのLCSの長さ  \n",
    "とおくと、  \n",
    "S(i)=T(j)：既存のLCSにS(i+1)を加えたもの  \n",
    "あるいは  \n",
    "Sのi+1文字目までとTのj文字目までのLCSの長さ  \n",
    "か  \n",
    "Sのi文字目までとTのj+1文字目までのLCSの長さ  \n",
    "が最長になる  \n",
    "if S(i) == T(j):  \n",
    "    dp(i+1,j+1) = dp(i,j) + 1  \n",
    "else:  \n",
    "    dp(i+1,j+1) = max( dp(i+1,j), dp(i,j+1) )  \n",
    "      \n",
    "みたいな  \n",
    "back trackingによる復元とかもあるがこれもちょっと難しい  "
   ]
  },
  {
   "cell_type": "code",
   "execution_count": 2,
   "metadata": {},
   "outputs": [
    {
     "name": "stdout",
     "output_type": "stream",
     "text": [
      "abcd\n",
      "becd\n",
      "3\n"
     ]
    }
   ],
   "source": [
    "S = input()\n",
    "T = input()\n",
    "\n",
    "#dp[i+1][j+1]：sのi文字目までとdのj文字目まで見たときのLCSの長さ\n",
    "dp = [[0 for i in range(len(T)+1)] for _ in range(len(S)+1)]\n",
    "\n",
    "# それぞれの先頭から一文字ずつ増やしたときのLCSの長さを確認していく\n",
    "# len(S)*len(T)\n",
    "for i in range(len(S)):\n",
    "    for j in range(len(T)):\n",
    "        if S[i] == T[j]:\n",
    "            dp[i+1][j+1] = dp[i][j] + 1\n",
    "        else:\n",
    "            dp[i+1][j+1] = max(dp[i][j+1], dp[i+1][j])\n",
    "            \n",
    "print(dp[len(S)][len(T)])"
   ]
  },
  {
   "cell_type": "code",
   "execution_count": null,
   "metadata": {},
   "outputs": [],
   "source": [
    "## 制限なしナップザック問題\n",
    "今まで：i番目までの商品を選べる時、jまで鞄に入れられるなら    \n",
    "制限なし：上に加えて、それぞれk個までいれるかも  \n",
    "→i*j*kの３重ループ  \n",
    "  \n",
    "問題は一種類につき何個でも選べること。  \n",
    "dp[i][j]:dp[i][j-w]+v[i]で、一個ずつ増やすみたいな形でkのループを消す。"
   ]
  },
  {
   "cell_type": "code",
   "execution_count": 4,
   "metadata": {},
   "outputs": [
    {
     "name": "stdout",
     "output_type": "stream",
     "text": [
      "3\n",
      "7\n",
      "3 4\n",
      "4 5\n",
      "2 3\n",
      "10\n"
     ]
    }
   ],
   "source": [
    "N = int(input())\n",
    "W = int(input())\n",
    "wv = [list(map(int, input().split())) for _ in range(N)]\n",
    "\n",
    "dp = [[0 for _ in range(W+1)] for _ in range(N)]\n",
    "\n",
    "# 商品一つ目からN個目まで\n",
    "for i in range(N):\n",
    "    # 0からWまで\n",
    "    for j in range(W+1):\n",
    "        # 制限を超える場合はその商品を選べないのでその商品を選ばない状態での最大を選択\n",
    "        if wv[i][0] > j:\n",
    "            if i == 0:\n",
    "                dp[i][j] = 0\n",
    "            else:\n",
    "                dp[i][j] = dp[i-1][j]\n",
    "        else:\n",
    "            # i番目の価値が小さいとi-1番目までで作る方が価値が高い場合があるのでちゃんと比較\n",
    "            # ここもi=0かどうかでやらないといけないのでこの書き方はまずい\n",
    "            dp[i][j] = max(dp[i-1][j], dp[i][j - wv[i][0]] + wv[i][1])\n",
    "            \n",
    "print(dp[N-1][W])"
   ]
  },
  {
   "cell_type": "markdown",
   "metadata": {},
   "source": [
    "## N*Wが大きいナップザック問題\n",
    "こういう場合は重さに対する価値を最大にするのではなく、価値に対する重さを最小にするとうまくいく  \n",
    "*最小と最大は切り替えられる*  \n",
    "dp(i,j):価値の総和がjになるように選んだ時の最小の重さ\n"
   ]
  },
  {
   "cell_type": "code",
   "execution_count": 19,
   "metadata": {},
   "outputs": [
    {
     "name": "stdout",
     "output_type": "stream",
     "text": [
      "4\n",
      "5\n",
      "2 3\n",
      "1 2\n",
      "3 4\n",
      "2 2\n",
      "7\n",
      "[0, inf, 1, 2, 3, 3, 4, 5, 6, 6, inf, 8, inf, inf, inf, inf, inf, inf, inf, inf, inf]\n"
     ]
    }
   ],
   "source": [
    "N = int(input())\n",
    "W = int(input())\n",
    "INF = float(\"inf\")\n",
    "wv = [list(map(int, input().split())) for _ in range(N)]\n",
    "V = 100\n",
    "dp = [[INF for _ in range(N*V + 1)] for _ in range(N+1)]\n",
    "dp[0][0] = 0\n",
    "\n",
    "for i in range(N):\n",
    "    for j in range(N*V+1):\n",
    "        \n",
    "        if j < wv[i][1]:\n",
    "            # i番目の価値がjを超えるので選べない\n",
    "            dp[i+1][j] = dp[i][j]\n",
    "        else:\n",
    "            dp[i+1][j] = min(dp[i][j], dp[i][j - wv[i][1]] + wv[i][0])\n",
    "\n",
    "            \n",
    "# N個全部選べる時の重さがWを超えない最大価値を探す\n",
    "# 価値はインデックスに対応していて要素がその時の最小重さなので注意\n",
    "ans = 0\n",
    "for i in range(len(dp[N])):\n",
    "    if dp[N][i] <= W:\n",
    "        ans = i\n",
    "    \n",
    "        \n",
    "print(ans)\n",
    "print(dp[N])"
   ]
  },
  {
   "cell_type": "code",
   "execution_count": 2,
   "metadata": {},
   "outputs": [
    {
     "name": "stdout",
     "output_type": "stream",
     "text": [
      "4 5\n",
      "2 3\n",
      "1 2\n",
      "3 4\n",
      "2 2\n",
      "7\n"
     ]
    }
   ],
   "source": [
    "N,W = map(int, input().split())\n",
    "wv = [list(map(int, input().split())) for _ in range(N)]\n",
    "INF = float(\"inf\")\n",
    "V = 100 # 価値の最大値\n",
    "dp = [[ INF for _ in range(N*W+1)] for _ in range(N+1)]\n",
    "dp[0][0] = 0\n",
    "\n",
    "for i in range(N):\n",
    "    for j in range(N*W+1):\n",
    "        if wv[i][1] > j:\n",
    "            continue\n",
    "        else:\n",
    "            dp[i+1][j] = min(dp[i][j], dp[i][j - wv[i][1]] + wv[i][0])\n",
    "\n",
    "ans = 0\n",
    "for i in range(len(dp[N])):\n",
    "    if dp[N][i] <= W:\n",
    "        ans = i\n",
    "        \n",
    "print(ans)"
   ]
  },
  {
   "cell_type": "markdown",
   "metadata": {},
   "source": [
    "## 個数制限付きナップザック"
   ]
  },
  {
   "cell_type": "markdown",
   "metadata": {},
   "source": [
    "\n",
    "dp(i+1,j):i番目まででｊを作る際に余るi番目の個数（作れないなら-1）  \n",
    "\n",
    "i-1まででｊができるならまるまるiを残せる。j-a_iができるなら（そしてそこまででa_iが一つでも残ってるなら）jができる、みたいに考えていける。ｊを０から増やしていって判断。a_iを残せる個数が漸化式の値になるのは変な感じもするが、値が負でなければjを作れる→漸化式の値でなくインデックスも利用して情報を渡していくみたいな？？？"
   ]
  },
  {
   "cell_type": "code",
   "execution_count": 5,
   "metadata": {},
   "outputs": [
    {
     "name": "stdout",
     "output_type": "stream",
     "text": [
      "3\n",
      "3 5 8\n",
      "3 2 2\n",
      "17\n",
      "True\n",
      "[[0, -1, -1, -1, -1, -1, -1, -1, -1, -1, -1, -1, -1, -1, -1, -1, -1, -1], [3, -1, -1, 2, -1, -1, 1, -1, -1, 0, -1, -1, -1, -1, -1, -1, -1, -1], [2, -1, -1, 2, -1, 1, 2, -1, 1, 2, 0, 1, -1, 0, 1, -1, 0, -1], [2, -1, -1, 2, -1, 2, 2, -1, 2, 2, 2, 2, -1, 2, 2, -1, 2, 1]]\n"
     ]
    }
   ],
   "source": [
    "N = int(input())\n",
    "A = list(map(int, input().split()))\n",
    "M = list(map(int, input().split()))\n",
    "K = int(input())\n",
    "\n",
    "dp = [[-1 for _ in range(K+1)] for _ in range(N+1)]\n",
    "dp[0][0] = 0\n",
    "\n",
    "for i in range(N):\n",
    "    for j in range(K+1):\n",
    "        # a_iなしでｊができるので丸々残せる\n",
    "        # elifの条件より後にしてしまうとi-1番目まででｊ作れるのにそれを使わないことになるので注意\n",
    "        if dp[i][j] >= 0:\n",
    "            dp[i+1][j] = M[i]\n",
    "            \n",
    "        # a_iがそもそもｊを超えているor j - a_iを作るとa_iが足りなくなる\n",
    "        elif A[i] > j or dp[i+1][j - A[i]] <= 0:\n",
    "            continue\n",
    "        # j - a_i　に a_iを一つ足してｊを作るので、a_iの余り個数が一つ減る\n",
    "        else:\n",
    "            dp[i+1][j] = dp[i+1][j - A[i]] - 1\n",
    "            \n",
    "print(dp[N][K] >= 0)\n",
    "print(dp)\n",
    "\n",
    "\"\"\"\n",
    "バックトラッキングをやるなら、\n",
    "dp[N][K]を見る→N番目が何個余るか（N番目を何個使うか）がわかる\n",
    "→dp[N-1][K-a_N-1*N-1番目を使った数]を見る→N-1番目が何個余るか（N-1番目を何個使うか）がわかる\n",
    "→・・・\n",
    "で何を何個使うかを調べられるはず\n",
    "\"\"\""
   ]
  },
  {
   "cell_type": "markdown",
   "metadata": {},
   "source": [
    "## 最長増加部分列\n",
    "\n",
    "dp(i)：最後がa_iであるような最長の増加部分列の長さ  \n",
    "とすると、そのような増加部分列は  \n",
    "a_iのみか、それまでの最長増加部分列にa_iを付け足したもの  \n",
    "となるので、  \n",
    "dp(i) = max(1, dp(j)+1)   (j<i でa_j < a_iの時後者)  \n",
    "これはO(N**2)(i,j　で二重for回す)\n",
    "  \n",
    "最小部分列の最後尾の値が小さいほど続けやすいので、  \n",
    "dp(i)：長さがiの最小部分列の最終要素の値の最小値（なければINF）    \n",
    "でもできる\n"
   ]
  },
  {
   "cell_type": "code",
   "execution_count": 1,
   "metadata": {},
   "outputs": [
    {
     "name": "stdout",
     "output_type": "stream",
     "text": [
      "5\n",
      "4 2 3 1 5\n",
      "3\n",
      "[1, 3, 5, inf, inf]\n"
     ]
    }
   ],
   "source": [
    "from bisect import bisect_left\n",
    "N = int(input())\n",
    "\n",
    "A = list(map(int, input().split()))\n",
    "\n",
    "INF = float(\"inf\")\n",
    "dp = [INF] * N\n",
    "\n",
    "\n",
    "\n",
    "for i in range (N):\n",
    "    # 一つ目はそのまま最長増加部分列になる\n",
    "    if i == 0:\n",
    "        dp[i] = A[i]\n",
    "    else:\n",
    "        # 最長増加部分列の現時点の最後のやつより小さい値は、どこか知ら入れる場所（更新できるところ）があるのでbisectで探して入れる\n",
    "        if dp[i-1] > A[i]:\n",
    "            idx = bisect_left(dp, A[i])\n",
    "            dp[idx] = A[i]\n",
    "        # 最長増加部分列の最後より大きい値が出てきたらそれの末尾に追加できる\n",
    "        elif dp[i-1] < A[i]:\n",
    "            dp[i] = A[i]\n",
    "            \n",
    "ans = 0\n",
    "for i in range(N):\n",
    "    if dp[i] != INF:\n",
    "        ans += 1\n",
    "        \n",
    "print(ans)\n",
    "print(dp)\n",
    "\n",
    "\"\"\"\n",
    "input\n",
    "\n",
    "5\n",
    "4 2 3 1 5\n",
    "\"\"\""
   ]
  },
  {
   "cell_type": "markdown",
   "metadata": {},
   "source": [
    "## 分割数\n",
    "http://drken1215.hatenablog.com/entry/2018/01/16/222843  \n",
    "\n",
    "P(n,k)：nをk個以下の１以上の自然数の和で表したときの場合の数  \n",
    "とおくと、  \n",
    "P(n,k) = P(n-k,k) + P(n,k-1)\n",
    "\n",
    "\n",
    "### 一項目の導出\n",
    "１項目は０を含まないｋ個の自然数でｎを表す場合にあたる。  \n",
    "Pの条件が、１以上の自然数の和で表す、なので、まず先にk個分１を割り振っておいて、そのあと残りのn-kをどのように割り振るか決める。これがP(n-k,k)\n",
    "\n",
    "\n",
    "### 二項目の導出\n",
    "こちらは０を含む場合を表す。ｋ個の自然数（０を含む）でｎを作るとき、ある一つのゼロを取り除いたら、k-1個の自然数でｎを作っているのと同じになる。ということで、P(n,k-1)\n",
    "\n",
    "\n",
    "何個以上でもよい１以上への分割ならP(n,n)で。こいつはO(n√n)で求まるらしい\n",
    "\n"
   ]
  },
  {
   "cell_type": "code",
   "execution_count": 10,
   "metadata": {},
   "outputs": [
    {
     "name": "stdout",
     "output_type": "stream",
     "text": [
      "7 7\n",
      "15\n",
      "[[1, 1, 1, 1, 1, 1, 1, 1], [0, 1, 1, 1, 1, 1, 1, 1], [0, 1, 2, 2, 2, 2, 2, 2], [0, 1, 2, 3, 3, 3, 3, 3], [0, 1, 3, 4, 5, 5, 5, 5], [0, 1, 3, 5, 6, 7, 7, 7], [0, 1, 4, 7, 9, 10, 11, 11], [0, 1, 4, 8, 11, 13, 14, 15]]\n"
     ]
    }
   ],
   "source": [
    "N,K= map(int, input().split())\n",
    "M = 10**9 + 7\n",
    "\n",
    "dp = [[0 for _ in range(K+1)] for _ in range(N+1)]\n",
    "# \n",
    "dp[0][0] = 1\n",
    "# iをj個に分割\n",
    "for i in range(N+1):\n",
    "    for j in range(K+1):\n",
    "        # 分割できない場合、j-1個に分割するときと同じ\n",
    "        if i < j:\n",
    "            dp[i][j] = dp[i][j-1]\n",
    "        else:\n",
    "            dp[i][j] = dp[i-j][j] + dp[i][j-1]\n",
    "            \n",
    "            \n",
    "print(dp[-1][-1] % M)\n",
    "print(dp)"
   ]
  },
  {
   "cell_type": "code",
   "execution_count": null,
   "metadata": {},
   "outputs": [],
   "source": [
    "## 重複組み合わせ\n",
    "#https://emtubasa.hateblo.jp/entry/2018/08/29/161456\n",
    "難しいので復習ちゃんとする\n",
    "n種類の品、i番目はa_i個ある、これらからｍ個えらぶ場合の数\n",
    "\n",
    "同じ種類のものは区別できない\n",
    "\n",
    "dp(i+1,j)：i番目までからj個選ぶ場合の数  \n",
    "とすると、i-1までからj-k、i番目からk個選べばよい。 -> dp(i+1,j) = sigma(dp(i, j-k))  （k:0～j）\n",
    "ここで、i-1までからj-k個えらぶdp(i, j-k)は、j-kをj-k-1にずらしてシグマの外で帳尻を合わせることを考える。\n",
    "\n",
    "ずらす前にあったやつ：k=0の時のdp(i,j)を加える\n",
    "ずらして出てきたやつ：k=j(かa_iの小さい方)のdp(i, j-min(j, a_i)-1)を取り除くことで、\n",
    "\n",
    "dp(i+1,j) = sigma(dp(i, j-k)) = sigma(dp(i, j-k-1))   + dp(i,j) - dp(i, j-min(j, a_i)-1)  \n",
    "\n",
    "ここで、右辺の１項目について考える。  \n",
    "k=j (min(j, a_i) = j)のとき、dp(i, j-j-1)=0  \n",
    "k=a_iのとき、j > a_iなのでk=jとならない  \n",
    "よってｊをj-1に置き換えてもよく、そうすると１項目は  dp(i+1, j-1)となる"
   ]
  },
  {
   "cell_type": "code",
   "execution_count": 16,
   "metadata": {},
   "outputs": [
    {
     "name": "stdout",
     "output_type": "stream",
     "text": [
      "3 3\n",
      "1 2 3\n",
      "0 2 0\n",
      "0 3 1\n",
      "1 3 0\n",
      "6\n",
      "[[1, 0, 0, 0], [1, 1, 0, 0], [1, 2, 2, 1], [1, 3, 5, 6]]\n"
     ]
    }
   ],
   "source": [
    "N,M = map(int, input().split())\n",
    "A = list(map(int, input().split()))\n",
    "\n",
    "mod = 10**9+7\n",
    "\n",
    "dp = [[0 for _ in range(M+1)] for _ in range(N+1)]\n",
    "\n",
    "for i in range(N+1):\n",
    "    #i番目を一つも選ばない方法は一種類のみ\n",
    "    dp[i][0] = 1\n",
    "    \n",
    "for i in range(N):\n",
    "    # j = 0を上で作ったので飛ばすかたち\n",
    "    for j in range(1, M+1):\n",
    "        # 上のメモの３項めが０以下の場合は考慮しない\n",
    "        if j - A[i] -1 < 0:\n",
    "            dp[i+1][j] = dp[i+1][j-1] + dp[i][j]\n",
    "        else:\n",
    "            dp[i+1][j] = dp[i+1][j-1] + dp[i][j] - dp[i][j - A[i] - 1]\n",
    "            print(i,j,j - A[i] - 1)\n",
    "            \n",
    "print(dp[-1][-1])\n",
    "print(dp)"
   ]
  },
  {
   "cell_type": "markdown",
   "execution_count": null,
   "metadata": {},
   "outputs": [],
   "source": [
    "以下類題"
   ]
  },
  {
   "cell_type": "code",
   "execution_count": null,
   "metadata": {},
   "outputs": [],
   "source": [
    "\"\"\"\n",
    "Typical DP Contest A\n",
    "\n",
    "典型的なら制限内で最大の～とかになりそうだが、これは得点の個数。\n",
    "i番目の問題までで作れる得点をi+1に移しつつ、i+1番目の得点ををそれぞれの点に加える。\n",
    "よくあるdpぽい式にしたが、キューを使ってもうまくいくと思う（i番目まででできた得点をキューに持っておいて、i+1番目の点をそれぞれに足して新たな点を作るみたいな）\n",
    "\"\"\"\n",
    "\n",
    "\n",
    "N = int(input())\n",
    "\n",
    "p = list(map(int, input().split()))\n",
    "\n",
    "\n",
    "\n",
    "dp = [[0 for _ in range(sum(p)+1)] for _ in range(N+1)]\n",
    "dp[0][0] = 1\n",
    "\n",
    "for i in range(N):\n",
    "    for j in range(sum(p)+1):\n",
    "        # i番目の問題まででｊ点が作れるならdp[i][j] = 1\n",
    "        if dp[i][j] == 1:\n",
    "            dp[i+1][j] = 1 # ここでi番目の時の情報がi+1に引き継がれる\n",
    "            dp[i+1][j+p[i]] = 1\n",
    "\n",
    "\n",
    "print(sum(dp[-1]))"
   ]
  },
  {
   "cell_type": "code",
   "execution_count": null,
   "metadata": {},
   "outputs": [],
   "source": [
    "\"\"\"\n",
    "Typical DP Contest D\n",
    "\n",
    "愚直に全探索すると絶対に間に合わない\n",
    "i-1回さいころを振った時に手持ちの素因数2,3,5がそれぞれa,b,c個ある確率をdp[i][a][b][c]として、\n",
    "i回目のさいころの目が2だったらそれぞれをa+1,b,c個持つことになり、\n",
    "その場合の数dp[i+1][a+1][b][c]はdp[i][a][b][c]を利用して求まる、みたいなことを繰り返す\n",
    "\n",
    "TODO：結構難しかったのでまたやる\n",
    "\"\"\"\n",
    "\n",
    "from collections import Counter\n",
    "\n",
    "\n",
    "def main():\n",
    "    N,D = map(int, input().split())\n",
    "\n",
    "    num = D\n",
    "    i = 2\n",
    "    tmp = []\n",
    "    for i in [2,3,5]:\n",
    "        while num % i == 0:\n",
    "            num = num / i\n",
    "            tmp.append(i)\n",
    "\n",
    "    if num > 1:\n",
    "        print(0)\n",
    "        exit()\n",
    "\n",
    "    cntr = Counter(tmp)\n",
    "\n",
    "    #さいころを投げて、2の素因数がa,3の～がｂ、５の～がｃ個ある場合の数 (i回さいころをふった時に)\n",
    "    dp = [[[[0.0 for _ in range(cntr[5]+1)] for _ in range(cntr[3]+1)] for _ in range(cntr[2]+1)] for _ in range(N+1)]\n",
    "    dp[0][0][0][0] = 1.0\n",
    "\n",
    "    # 2がcntr[2]回以上出る場合の確率は全部cntr[2]の所に入れる\n",
    "    # 最終的にDの倍数となる確率が分かればいいので。\n",
    "    # でないと最後にそれぞれをcntr[2],cntr[3],cntr[5]個以上含むDの倍数になる確率を全て足し合わせる必要がある\n",
    "    for i in range(N):\n",
    "        for a in range(cntr[2]+1):\n",
    "            for b in range(cntr[3]+1):\n",
    "                for c in range(cntr[5]+1):\n",
    "                    # 以下１～６までが出たときのdpの変化\n",
    "\n",
    "                    # １が出ても何も変わらない\n",
    "                    dp[i+1][a][b][c] += dp[i][a][b][c]/6.0\n",
    "                    # ２が出たらaが一つ増える感じ\n",
    "                    dp[i+1][min(a+1, cntr[2])][b][c] += dp[i][a][b][c]/6.0\n",
    "                    # 3\n",
    "                    dp[i+1][a][min(b+1, cntr[3])][c] += dp[i][a][b][c]/6.0\n",
    "                    # 4は２が２個なので\n",
    "                    dp[i+1][min(a+2, cntr[2])][b][c] += dp[i][a][b][c]/6.0\n",
    "                    # 5\n",
    "                    dp[i+1][a][b][min(c+1, cntr[5])] += dp[i][a][b][c]/6.0\n",
    "                    # 6は２と３が一個ずつ\n",
    "                    dp[i+1][min(a+1, cntr[2])][min(b+1, cntr[3])][c] += dp[i][a][b][c]/6.0\n",
    "\n",
    "    print(dp[-1][cntr[2]][cntr[3]][cntr[5]])\n",
    "\n",
    "if __name__ == \"__main__\":\n",
    "    main()"
   ]
  }
 ],
 "metadata": {
  "kernelspec": {
   "display_name": "Python 3",
   "language": "python",
   "name": "python3"
  },
  "language_info": {
   "codemirror_mode": {
    "name": "ipython",
    "version": 3
   },
   "file_extension": ".py",
   "mimetype": "text/x-python",
   "name": "python",
   "nbconvert_exporter": "python",
   "pygments_lexer": "ipython3",
   "version": "3.6.5"
  }
 },
 "nbformat": 4,
 "nbformat_minor": 2
}