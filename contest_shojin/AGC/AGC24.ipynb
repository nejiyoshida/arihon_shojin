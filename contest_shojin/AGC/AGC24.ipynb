{
 "cells": [
  {
   "cell_type": "code",
   "execution_count": null,
   "metadata": {},
   "outputs": [],
   "source": [
    "\"\"\"\n",
    "AtCoder Grand Contest 024 B\n",
    "\n",
    "数列中の邪魔な部分を取り除いたときに、差が１ずつで単調増加している部分数列のうち、最も長いものは動かさず、それ以外を動かす。\n",
    "なので、単調増加している部分で最長のものを探す。\n",
    "それぞれの数字について、どこにいるのかを別の配列に確保して、２のいる場所が１より右か、３のいる場所が２より右か、......のような形で探すと楽\n",
    "XXより右か、で右になかった場合は新たにその数字から部分数列を作り始めるとよい\n",
    "\"\"\"\n",
    "\n",
    "\n",
    "N = int(input())\n",
    "\n",
    "P = [int(input()) for _ in range(N)]\n",
    "\n",
    "idxs = [0] * N\n",
    "for i in range(N):\n",
    "    idxs[P[i]-1] = i\n",
    "\n",
    "\n",
    "\n",
    "max_cnt = 0\n",
    "curr = 0\n",
    "for i in range(N):\n",
    "    if i == 0:\n",
    "        max_cnt = 1\n",
    "        curr = 1\n",
    "    else:\n",
    "        \n",
    "        if idxs[i] > idxs[i-1]:\n",
    "            curr += 1\n",
    "            max_cnt = max(max_cnt, curr)\n",
    "        else:\n",
    "            curr = 1\n",
    "    \n",
    "\n",
    "print(N - max_cnt)\n"
   ]
  }
 ],
 "metadata": {
  "kernelspec": {
   "display_name": "Python 3",
   "language": "python",
   "name": "python3"
  },
  "language_info": {
   "codemirror_mode": {
    "name": "ipython",
    "version": 3
   },
   "file_extension": ".py",
   "mimetype": "text/x-python",
   "name": "python",
   "nbconvert_exporter": "python",
   "pygments_lexer": "ipython3",
   "version": "3.6.5"
  }
 },
 "nbformat": 4,
 "nbformat_minor": 2
}