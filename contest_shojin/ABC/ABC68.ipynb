{
 "cells": [
  {
   "cell_type": "code",
   "execution_count": null,
   "metadata": {},
   "outputs": [],
   "source": [
    "\"\"\"\n",
    "\n",
    "AtCoder Beginner Contest 068 C\n",
    "\n",
    "何も考えずに全船の情報を走査していくと遅いので\n",
    "必要な情報のみもっておくとよい。setで十分\n",
    "\"\"\"\n",
    "\n",
    "N,M = map(int, input().split())\n",
    "\n",
    "s = set()\n",
    "g = set()\n",
    "\n",
    "for i in range(M):\n",
    "    a,b = map(int, input().split())\n",
    "    if a == 1:\n",
    "        s.add(b)\n",
    "    elif b == N:\n",
    "        g.add(a)\n",
    "\n",
    "\n",
    "ans = len(s & g) > 0\n",
    "print(\"POSSIBLE\" if ans else \"IMPOSSIBLE\")"
   ]
  },
  {
   "cell_type": "code",
   "execution_count": null,
   "metadata": {},
   "outputs": [],
   "source": [
    "\"\"\"\n",
    "\n",
    "AtCoder Beginner Contest 068 D\n",
    "\n",
    "先攻後攻のあるゲームや、一ステップごとに状態を進めてある状態に帰着するようなやつは、最後の状態から最初にもどると考えやすいことがある。\n",
    "一回の操作で一つをN増やし他を１減らすので、全体としては１増える。また、ちょうどK回の操作後に最大値がN以上になる\n",
    "\n",
    "Nを大きくとる分にはデメリットがないので、５０でとっておく。\n",
    "N回操作すると、操作前より全体の和が１増える(どれか一つの要素が１増えて他はそのまま)ので、この１で最大がN以上になるようにしてあげればいい。\n",
    "\n",
    "逆から元のやつを作る発想は出てくるけど、[49] * 50からスタートという発想はコンテスト中にはなかなか出せないと思う\n",
    "\"\"\"\n",
    "\n",
    "\n",
    "K = int(input())\n",
    "N = 50\n",
    "# 最後の状態からさかのぼる\n",
    "A = [49] * 50\n",
    "# K を均等に割り振る（どれか一つを集中して選択しない）\n",
    "for i in range(N):\n",
    "    A[i] += K // 50\n",
    "# 割り振った残りを、さらになるべく均等に割り振る\n",
    "for i in range(K % N):\n",
    "    A[i] += 51\n",
    "    for j in range(N):\n",
    "        A[j] -= 1\n",
    "\n",
    "print(N)\n",
    "print(*A)"
   ]
  }
 ],
 "metadata": {
  "kernelspec": {
   "display_name": "Python 3",
   "language": "python",
   "name": "python3"
  },
  "language_info": {
   "codemirror_mode": {
    "name": "ipython",
    "version": 3
   },
   "file_extension": ".py",
   "mimetype": "text/x-python",
   "name": "python",
   "nbconvert_exporter": "python",
   "pygments_lexer": "ipython3",
   "version": "3.6.5"
  }
 },
 "nbformat": 4,
 "nbformat_minor": 2
}