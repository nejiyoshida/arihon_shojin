{
 "cells": [
  {
   "cell_type": "code",
   "execution_count": null,
   "metadata": {},
   "outputs": [],
   "source": [
    "\"\"\"\n",
    "AtCoder Beginner Contest 058 C\n",
    "\n",
    "\n",
    "数学的な知識などは特に必要なく、問題をそのまま実装に落とすのみ\n",
    "\"\"\"\n",
    "\n",
    "\n",
    "from collections import Counter\n",
    "\n",
    "N = int(input())\n",
    "\n",
    "S = [input() for _ in range(N)]\n",
    "\n",
    "c = Counter(S[0])\n",
    "\n",
    "for i in range(1,N):\n",
    "    c_tmp = Counter(S[i])\n",
    "    for k in c.keys():\n",
    "        if k in c and k in c_tmp:\n",
    "            c[k] = min(c[k], c_tmp[k])\n",
    "        else:\n",
    "            c[k] = 0\n",
    "\n",
    "ans = \"\"\n",
    "for k in c:\n",
    "    ans += k*c[k]\n",
    "\n",
    "ans = list(ans)\n",
    "ans.sort()\n",
    "print(\"\".join(ans))\n"
   ]
  },
  {
   "cell_type": "code",
   "execution_count": null,
   "metadata": {},
   "outputs": [],
   "source": [
    "\"\"\"\n",
    "\n",
    "AtCoder Beginner Contest 058 D\n",
    "\n",
    "\n",
    "求める面積（余りを出す前）を式にすると\n",
    "Σ(x_j - x_i) * Σ(y_t - y_s)\n",
    "\n",
    "なので、それぞれのΣを展開すると、あるxについて何回足されて何回引かれるかが分かる。\n",
    "それを1~N, 1~Mまで求めて合算した物の積が求める面積となる\n",
    "\n",
    "数式で表せる系は数式化してまとめられる部分をまとめてみたりするといいかも（今回はそれぞれのx,yについてまとめることで計算時間が間に合う）\n",
    "\"\"\"\n",
    "\n",
    "\n",
    "\n",
    "N,M = map(int, input().split())\n",
    "\n",
    "X = list(map(int, input().split()))\n",
    "Y = list(map(int, input().split()))\n",
    "MOD = 10**9+7\n",
    "\n",
    "\n",
    "sum_x = 0\n",
    "sum_y = 0\n",
    "for i in range(N):\n",
    "    sum_x += (i - (N - i - 1))*X[i] % MOD\n",
    "\n",
    "for j in range(M):\n",
    "    sum_y += (j - (M - j - 1))*Y[j] % MOD\n",
    "\n",
    "\n",
    "print(sum_x*sum_y%MOD)\n"
   ]
  }
 ],
 "metadata": {
  "kernelspec": {
   "display_name": "Python 3",
   "language": "python",
   "name": "python3"
  },
  "language_info": {
   "codemirror_mode": {
    "name": "ipython",
    "version": 3
   },
   "file_extension": ".py",
   "mimetype": "text/x-python",
   "name": "python",
   "nbconvert_exporter": "python",
   "pygments_lexer": "ipython3",
   "version": "3.6.5"
  }
 },
 "nbformat": 4,
 "nbformat_minor": 2
}