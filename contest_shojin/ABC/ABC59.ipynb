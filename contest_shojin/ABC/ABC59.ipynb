{
 "cells": [
  {
   "cell_type": "code",
   "execution_count": null,
   "metadata": {},
   "outputs": [],
   "source": [
    "\"\"\"\n",
    "AtCoder Beginner Contest 059 C\n",
    "\n",
    "\n",
    "その時点までの累積和が、一個手前の累積和と逆の符号でなければならない\n",
    "数字を足すか引くかして作る累積和は+1か-1にしておけば操作回数が少なくて済む\n",
    "-,+,-,+,...... と　+,-,+,-,...\n",
    "の両方を試して少ないほうが答えでいいと思う\n",
    "\"\"\"\n",
    "\n",
    "N = int(input())\n",
    "\n",
    "A = list(map(int, input().split()))\n",
    "\n",
    "# +先行の場合\n",
    "ans_plus = 0\n",
    "total = 0\n",
    "for i in range(N):\n",
    "    total += A[i]\n",
    "    # 奇数個目（合計が正を期待）\n",
    "    if i % 2 == 0:\n",
    "        if total <= 0:\n",
    "            ans_plus += (1 - total)\n",
    "            total = 1\n",
    "    # 偶数個目（合計が負を期待）\n",
    "    else:\n",
    "        if total >= 0:\n",
    "            ans_plus += (total + 1)\n",
    "            total = -1\n",
    "\n",
    "ans_minus = 0\n",
    "total = 0\n",
    "for i in range(N):\n",
    "    total += A[i]\n",
    "    # 奇数個目（合計が負を期待）\n",
    "    if i % 2 == 0:\n",
    "        if total >= 0:\n",
    "            ans_minus += (1 + total)\n",
    "            total = -1\n",
    "    # 偶数個目（合計が正を期待）\n",
    "    else:\n",
    "        if total <= 0:\n",
    "            ans_minus += (-total + 1)\n",
    "            total = 1\n",
    "\n",
    "print(min(ans_plus, ans_minus))\n"
   ]
  },
  {
   "cell_type": "code",
   "execution_count": null,
   "metadata": {},
   "outputs": [],
   "source": []
  }
 ],
 "metadata": {
  "kernelspec": {
   "display_name": "Python 3",
   "language": "python",
   "name": "python3"
  },
  "language_info": {
   "codemirror_mode": {
    "name": "ipython",
    "version": 3
   },
   "file_extension": ".py",
   "mimetype": "text/x-python",
   "name": "python",
   "nbconvert_exporter": "python",
   "pygments_lexer": "ipython3",
   "version": "3.6.5"
  }
 },
 "nbformat": 4,
 "nbformat_minor": 2
}