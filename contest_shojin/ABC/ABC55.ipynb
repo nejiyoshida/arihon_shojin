{
 "cells": [
  {
   "cell_type": "code",
   "execution_count": null,
   "metadata": {},
   "outputs": [],
   "source": [
    "\"\"\"\n",
    "AtCoder Beginner Contest 055 D\n",
    "\n",
    "円形に並んでいるので１番目とN番目が相互に影響しあう。\n",
    "１とNについてそれぞれSとWの場合の４通りを考えて、与えられた文字列から動物の並び方を考えて、完成時点で最初の仮定と矛盾がなければそれを出力\n",
    "４パターン*文字列の長さ分なのでO(N)\n",
    "\n",
    "\"\"\"\n",
    "\n",
    "\n",
    "N = int(input())\n",
    "S = input()\n",
    "\n",
    "\n",
    "\n",
    "# 1,Nをヒツジと狼のどちらかと仮定して場合分け\n",
    "\n",
    "for s1,sn in [(\"S\",\"S\"), (\"S\",\"W\"), (\"W\",\"S\"), (\"W\",\"W\")]:\n",
    "    ans = [\"\"]*(N+2)\n",
    "    ans[1] = s1\n",
    "    ans[0] = sn\n",
    "    for i in range(1,N+1):\n",
    "       \n",
    "        if ans[i] == \"S\":\n",
    "\n",
    "            if S[i-1] == \"o\":\n",
    "                ans[i+1] = \"S\" if ans[i-1] ==\"S\" else \"W\"\n",
    "            else:\n",
    "                ans[i+1] = \"W\" if ans[i-1] ==\"S\" else \"S\"\n",
    "        else:\n",
    "            if S[i-1] == \"o\":\n",
    "                ans[i+1] = \"S\" if ans[i-1] ==\"W\" else \"W\"\n",
    "            else:\n",
    "                ans[i+1] = \"W\" if ans[i-1] ==\"W\" else \"S\"\n",
    "\n",
    "    if ans[0] == ans[N] and ans[1] == ans[N+1]:\n",
    "        print(\"\".join(ans[1:N+1]))\n",
    "        exit()\n",
    "\n",
    "print(-1)"
   ]
  }
 ],
 "metadata": {
  "kernelspec": {
   "display_name": "Python 3",
   "language": "python",
   "name": "python3"
  },
  "language_info": {
   "codemirror_mode": {
    "name": "ipython",
    "version": 3
   },
   "file_extension": ".py",
   "mimetype": "text/x-python",
   "name": "python",
   "nbconvert_exporter": "python",
   "pygments_lexer": "ipython3",
   "version": "3.6.5"
  }
 },
 "nbformat": 4,
 "nbformat_minor": 2
}