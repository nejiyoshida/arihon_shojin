{
 "cells": [
  {
   "cell_type": "code",
   "execution_count": null,
   "metadata": {},
   "outputs": [],
   "source": [
    "\"\"\"\n",
    "AtCoder Beginner Contest 034 D\n",
    "\n",
    "食塩水の濃度がx\n",
    "→　（各容器内の食塩の総量）/ （各容器内の食塩水の総量）* 100 = x\n",
    "容器ごとに全量wと濃度pが与えられるので、\n",
    "Σ(w_i * (p_i/100)) * 100 / Σ(w_i) = x\n",
    "ある濃度x以上にできるのかを考えると\n",
    "\n",
    "Σ(w_i * (p_i/100)) * 100 / Σ(w_i) >= x\n",
    "\n",
    "-> Σ(w_i *p_i - x*w_i) >= 0\n",
    "\n",
    "これを満たすxの中で最大のものを求める\n",
    "\"\"\"\n",
    "\n",
    "N,K = map(int, input().split())\n",
    "\n",
    "wp = [tuple(map(int, input().split())) for _ in range(N)]\n",
    "\n",
    "hi = 100.0\n",
    "lo = 0.0\n",
    "mid = (hi+lo)/2.0\n",
    "\n",
    "for _ in range(40):\n",
    "    tmp = [0] * N\n",
    "    for i in range(N):\n",
    "        tmp[i] = wp[i][0] * wp[i][1] - mid*wp[i][0]\n",
    "\n",
    "    tmp.sort(reverse=True)\n",
    "    total = sum(tmp[:K])\n",
    "    if total >= 0:\n",
    "        lo = mid\n",
    "    else:\n",
    "        hi = mid\n",
    "    mid = (hi+lo)/2.0\n",
    "\n",
    "print(mid)\n"
   ]
  }
 ],
 "metadata": {
  "kernelspec": {
   "display_name": "Python 3",
   "language": "python",
   "name": "python3"
  },
  "language_info": {
   "codemirror_mode": {
    "name": "ipython",
    "version": 3
   },
   "file_extension": ".py",
   "mimetype": "text/x-python",
   "name": "python",
   "nbconvert_exporter": "python",
   "pygments_lexer": "ipython3",
   "version": "3.6.5"
  }
 },
 "nbformat": 4,
 "nbformat_minor": 2
}