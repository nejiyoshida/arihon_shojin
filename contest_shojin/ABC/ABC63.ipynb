{
 "cells": [
  {
   "cell_type": "code",
   "execution_count": null,
   "metadata": {},
   "outputs": [],
   "source": [
    "\"\"\"\n",
    "AtCoder Beginner Contest 063 D\n",
    "\n",
    "\n",
    "~~という条件での最大/最小をもとめる系　→　二分探索が使えるかも。\n",
    "0,1,2,.... と確認していくと間に合わない問題だと気がつきやすいか。\n",
    "二分探索に素直に落とし込めない場合、\n",
    "・速度 x 時間 = 距離　みたいな関係の式などから、扱いやすい軸で二分探索できないか\n",
    "・何らかの前処理があればできないか\n",
    "など考える\n",
    "今回は、ダメージがAとBで別れているのが厄介か。\n",
    "一回で全体にB与えて、なおかつおまけで一体にA-B追加で与えられると考えると、それぞれの敵について、\n",
    "・mid回の攻撃で倒せるか\n",
    "・倒せない場合、追加ダメージを何回分割り振れば倒せるか\n",
    "を求めておき、追加ダメージを必要とする累計がmid以下であれば、mid回の攻撃で倒せる\n",
    "\"\"\"\n",
    "import math\n",
    "\n",
    "N,A,B = map(int, input().split())\n",
    "\n",
    "H = [int(input()) for _ in range(N)]\n",
    "H.sort(reverse=True)\n",
    "\n",
    "# mid回の攻撃で全撃破できるか確認。\n",
    "hi = math.ceil(H[0] / B)\n",
    "lo = 1\n",
    "\n",
    "\n",
    "while hi - lo > 1:\n",
    "\n",
    "    mid = (hi+lo) // 2\n",
    "    cnt_extra_attack = 0\n",
    "\n",
    "    for i in range(N):\n",
    "        if H[i] > mid * B:\n",
    "            cnt_extra_attack += math.ceil((H[i] - mid * B) / (A - B))\n",
    "        # 降順に並べてあるので、あるモンスターで追加攻撃が必要なければそれ以降も必要ない\n",
    "        else:\n",
    "            break\n",
    "    \n",
    "    # mid以下しか追加攻撃が必要ないので倒しきれる\n",
    "    if cnt_extra_attack <= mid:\n",
    "        hi = mid\n",
    "    else:\n",
    "        lo = mid\n",
    "\n",
    "print(hi)\n"
   ]
  }
 ],
 "metadata": {
  "kernelspec": {
   "display_name": "Python 3",
   "language": "python",
   "name": "python3"
  },
  "language_info": {
   "codemirror_mode": {
    "name": "ipython",
    "version": 3
   },
   "file_extension": ".py",
   "mimetype": "text/x-python",
   "name": "python",
   "nbconvert_exporter": "python",
   "pygments_lexer": "ipython3",
   "version": "3.6.5"
  }
 },
 "nbformat": 4,
 "nbformat_minor": 2
}