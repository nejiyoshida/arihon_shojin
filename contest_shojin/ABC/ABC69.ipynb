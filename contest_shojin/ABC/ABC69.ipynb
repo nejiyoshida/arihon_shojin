{
 "cells": [
  {
   "cell_type": "code",
   "execution_count": null,
   "metadata": {},
   "outputs": [],
   "source": [
    "\"\"\"\n",
    "AtCoder Beginner Contest 069 D\n",
    "\n",
    "\n",
    "いわれたとおりに実装するだけ。\n",
    "reversedを使うと楽だが、ない言語ではiの偶奇で場合分けしてwhileでおなじことができる\n",
    "\"\"\"\n",
    "\n",
    "\n",
    "\n",
    "H,W = map(int, input().split())\n",
    "N= int(input())\n",
    "A = list(map(int, input().split()))\n",
    "\n",
    "\n",
    "ans = [[0 for _ in range(W)] for _ in range(H)]\n",
    "\n",
    "\n",
    "cnt = 0\n",
    "c = 0\n",
    "for i in range(H):\n",
    "    if i % 2 == 0:\n",
    "        for j in range(W):\n",
    "            ans[i][j] = c+1\n",
    "            A[c] -= 1\n",
    "            if A[c] == 0:\n",
    "                c += 1\n",
    "    else:\n",
    "        for j in reversed(range(W)):\n",
    "            ans[i][j] = c+1\n",
    "            A[c] -= 1\n",
    "            if A[c] == 0:\n",
    "                c += 1\n",
    "\n",
    "for i in range(H):\n",
    "    print(*ans[i])"
   ]
  }
 ],
 "metadata": {
  "kernelspec": {
   "display_name": "Python 3",
   "language": "python",
   "name": "python3"
  },
  "language_info": {
   "codemirror_mode": {
    "name": "ipython",
    "version": 3
   },
   "file_extension": ".py",
   "mimetype": "text/x-python",
   "name": "python",
   "nbconvert_exporter": "python",
   "pygments_lexer": "ipython3",
   "version": "3.6.5"
  }
 },
 "nbformat": 4,
 "nbformat_minor": 2
}