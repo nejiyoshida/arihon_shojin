{
 "cells": [
  {
   "cell_type": "code",
   "execution_count": null,
   "metadata": {},
   "outputs": [],
   "source": [
    "\"\"\"\n",
    "\n",
    "AtCoder Beginner Contest 015 C\n",
    "\n",
    "N,K <= 5と小さいので、全探索可能。\n",
    "深さ優先探索で回せばいい\n",
    "\n",
    "\"\"\"\n",
    "\n",
    "\n",
    "\n",
    "import sys\n",
    "sys.setrecursionlimit(10**6)\n",
    "\n",
    "N,K = map(int, input().split())\n",
    "\n",
    "T = [list(map(int, input().split())) for i in range(N)]\n",
    "\n",
    "\n",
    "\n",
    "\n",
    "def dfs(chars):\n",
    "\n",
    "    if len(chars) == N:\n",
    "        \n",
    "        for i in range(N):\n",
    "\n",
    "            if i == 0:\n",
    "                tmp = T[i][int(chars[i])]\n",
    "            else:\n",
    "                tmp = tmp ^ T[i][int(chars[i])]\n",
    " \n",
    "        if tmp == 0:\n",
    "            print(\"Found\")\n",
    "            exit()\n",
    "    else:\n",
    "        for i in range(K):\n",
    "            dfs(chars+str(i))\n",
    "\n",
    "dfs(\"\")\n",
    "\n",
    "print(\"Nothing\")"
   ]
  }
 ],
 "metadata": {
  "kernelspec": {
   "display_name": "Python 3",
   "language": "python",
   "name": "python3"
  },
  "language_info": {
   "codemirror_mode": {
    "name": "ipython",
    "version": 3
   },
   "file_extension": ".py",
   "mimetype": "text/x-python",
   "name": "python",
   "nbconvert_exporter": "python",
   "pygments_lexer": "ipython3",
   "version": "3.6.5"
  }
 },
 "nbformat": 4,
 "nbformat_minor": 2
}