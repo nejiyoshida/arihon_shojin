{
 "cells": [
  {
   "cell_type": "code",
   "execution_count": null,
   "metadata": {},
   "outputs": [],
   "source": [
    "\n",
    "\"\"\"\n",
    "ABC52-C\n",
    "\n",
    "与えられた数字の階乗を素因数分解する\n",
    "それぞれの素因数を何個かずつ使うと約数ができるので、\n",
    "それぞれの約数＋１の積をとっていて割ればよい\n",
    "\"\"\"\n",
    "\n",
    "from collections import defaultdict\n",
    "MOD = 10**9+7\n",
    "N = int(input())\n",
    "d = defaultdict(int)\n",
    "\n",
    "# 階乗のそれぞれの要素について素因数分解する\n",
    "for i in range(2,N+1):\n",
    "    p = 2\n",
    "    x = i\n",
    "    # 割り切れる間は素因数で割る\n",
    "    while p * p <= x:\n",
    "        while x % p == 0:\n",
    "            d[p] += 1\n",
    "            x //= p\n",
    "        p += 1\n",
    "    # 割り切れなくなったときに残って居たらそれも素因数なので追加する\n",
    "    if x > 1:\n",
    "        d[x] += 1\n",
    "    \n",
    "ans = 1\n",
    "for k in d.keys():\n",
    "    ans *= (d[k] + 1)\n",
    "\n",
    "print(ans%MOD)"
   ]
  },
  {
   "cell_type": "code",
   "execution_count": null,
   "metadata": {},
   "outputs": [],
   "source": [
    "\"\"\"\n",
    "ABC52-D\n",
    "・歩いていく方がワープするよりコストが引くなら歩く。\n",
    "・歩いていく方がしんどいならワープする\n",
    "の貪欲法\n",
    "\"\"\"\n",
    "\n",
    "\n",
    "N,A,B = map(int, input().split())\n",
    "\n",
    "X = list(map(int, input().split()))\n",
    "\n",
    "ans = 0\n",
    "for i in range(1,N):\n",
    "    if (X[i] - X[i-1]) * A <= B:\n",
    "        ans += (X[i] - X[i-1]) * A\n",
    "    else:\n",
    "        ans += B\n",
    "print(ans)"
   ]
  }
 ],
 "metadata": {
  "kernelspec": {
   "display_name": "Python 3",
   "language": "python",
   "name": "python3"
  },
  "language_info": {
   "codemirror_mode": {
    "name": "ipython",
    "version": 3
   },
   "file_extension": ".py",
   "mimetype": "text/x-python",
   "name": "python",
   "nbconvert_exporter": "python",
   "pygments_lexer": "ipython3",
   "version": "3.6.5"
  }
 },
 "nbformat": 4,
 "nbformat_minor": 2
}