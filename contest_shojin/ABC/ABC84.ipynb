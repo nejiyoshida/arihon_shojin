{
 "cells": [
  {
   "cell_type": "code",
   "execution_count": null,
   "metadata": {},
   "outputs": [],
   "source": [
    "\"\"\"\n",
    "AtCoder Beginner Contest 084\n",
    "\n",
    "1~10**5までエラトステネスの篩で素数かどうか判定する\n",
    "判定したら、０からｎまで累積で2017に似た数が何個あるか配列に用意する\n",
    "l~rというのは、0~rから0~l-1を除けばよい\n",
    "\"\"\"\n",
    "Q = int(input())\n",
    "lr = [tuple(map(int, input().split())) for _ in range(Q)]\n",
    "\n",
    "\n",
    "N = 10**5\n",
    "is_prime = [True] * (N+1)\n",
    "is_prime[0] = False\n",
    "is_prime[1] = False\n",
    "for i in range(2,N+1):\n",
    "    if is_prime[i]:\n",
    "        j = 2\n",
    "        while j * i <= N:\n",
    "            is_prime[i*j] = False\n",
    "            j += 1\n",
    "\n",
    "cum_like2017 = [0] * (N+1)\n",
    "for i in range(1,N+1):\n",
    "    if is_prime[i] and is_prime[(i+1)//2]:\n",
    "        cum_like2017[i] = cum_like2017[i-1] + 1\n",
    "    else:\n",
    "        cum_like2017[i] = cum_like2017[i-1] \n",
    "\n",
    "\n",
    "for l, r in lr:\n",
    "    print(cum_like2017[r] - cum_like2017[l-1])\n"
   ]
  }
 ],
 "metadata": {
  "kernelspec": {
   "display_name": "Python 3",
   "language": "python",
   "name": "python3"
  },
  "language_info": {
   "codemirror_mode": {
    "name": "ipython",
    "version": 3
   },
   "file_extension": ".py",
   "mimetype": "text/x-python",
   "name": "python",
   "nbconvert_exporter": "python",
   "pygments_lexer": "ipython3",
   "version": "3.6.5"
  }
 },
 "nbformat": 4,
 "nbformat_minor": 2
}