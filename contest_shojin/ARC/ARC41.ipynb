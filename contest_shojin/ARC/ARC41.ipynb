{
 "cells": [
  {
   "cell_type": "code",
   "execution_count": null,
   "metadata": {},
   "outputs": [],
   "source": [
    "\"\"\"\n",
    "AtCoder Regular Contest 041 B\n",
    "\n",
    "\n",
    "最初外周にはアメーバはいなかったので、分裂後に一番外側（輪郭部分ではなく、存在する中で一番外側の意味）にいるアメーバは、その内側のマスからやってきたといえる。\n",
    "なので、左上（あるいは右下）から見ていって、あるマスのアメーバを下のマスに戻す。\n",
    "また、下のマスの左右と下についても、発見したアメーバの数だけ引く。\n",
    "最後に発見した場所のアメーバの数を０にする（左上から見行くと、その場所に下以外からやってきたアメーバはいないOR既に取り除かれているので）\n",
    "\"\"\"\n",
    "\n",
    "\n",
    "\n",
    "\n",
    "N,M = map(int, input().split())\n",
    "B = [list(map(int, input())) for _ in range(N)]\n",
    "\n",
    "A = [[0 for _ in range(M)] for _ in range(N)]\n",
    "\n",
    "for i in range(1,N-1):\n",
    "    for j in range(1,M-1):\n",
    "        # 別にifにしなくても、B[i-1][j]が０なら０足したりひいたりするだけなので変化なし\n",
    "        if B[i-1][j] != 0:\n",
    "            A[i][j] += B[i-1][j]\n",
    "            B[i][j-1] -= B[i-1][j]\n",
    "            B[i][j+1] -= B[i-1][j]\n",
    "            B[i+1][j] -= B[i-1][j]\n",
    "            B[i-1][j] = 0\n",
    "\n",
    "for i in range(N):\n",
    "    s = map(str, A[i])\n",
    "    print(\"\".join(s))"
   ]
  }
 ],
 "metadata": {
  "kernelspec": {
   "display_name": "Python 3",
   "language": "python",
   "name": "python3"
  },
  "language_info": {
   "codemirror_mode": {
    "name": "ipython",
    "version": 3
   },
   "file_extension": ".py",
   "mimetype": "text/x-python",
   "name": "python",
   "nbconvert_exporter": "python",
   "pygments_lexer": "ipython3",
   "version": "3.6.5"
  }
 },
 "nbformat": 4,
 "nbformat_minor": 2
}