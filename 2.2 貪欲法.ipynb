{
 "cells": [
  {
   "cell_type": "markdown",
   "metadata": {},
   "source": [
    "## 貪欲法\n",
    "DPや全探索は複数の状態における最善を調べる。  \n",
    "貪欲法はその場その場の最善の積み重ねで答えを出す。\n",
    "大きな硬貨から優先的に使うとか、大きな数値のカードから使うなど。"
   ]
  },
  {
   "cell_type": "code",
   "execution_count": 1,
   "metadata": {},
   "outputs": [
    {
     "name": "stdout",
     "output_type": "stream",
     "text": [
      "5\n",
      "1 3\n",
      "8 10\n",
      "2 5\n",
      "6 9\n",
      "4 7\n",
      "3\n"
     ]
    }
   ],
   "source": [
    "# 仕事の問題\n",
    "N = int(input())\n",
    "st = [tuple(map(int, input().split())) for _ in range(N)]\n",
    "st.sort(key = lambda x: x[1])\n",
    "\n",
    "current_time = 0\n",
    "cnt = 0\n",
    "for s,t in st:\n",
    "    if current_time < s:\n",
    "        current_time = t\n",
    "        cnt += 1\n",
    "        \n",
    "print(cnt)"
   ]
  },
  {
   "cell_type": "markdown",
   "metadata": {},
   "source": [
    "### 辞書順最小\n",
    "文字列を前と後ろから見ていくとき、先頭と最後尾だけ調べても答えが出ない  \n",
    "→逆順にした文字列と比較して貪欲"
   ]
  },
  {
   "cell_type": "code",
   "execution_count": 9,
   "metadata": {},
   "outputs": [
    {
     "name": "stdout",
     "output_type": "stream",
     "text": [
      "acdbcb\n",
      "abcbcd\n"
     ]
    }
   ],
   "source": [
    "S = input()\n",
    "N = len(S)\n",
    "\n",
    "a, b = 0, N - 1\n",
    "\n",
    "ans = \"\"\n",
    "while a <= b:\n",
    "    left = False\n",
    "    i = 0\n",
    "    while a + i <= b:\n",
    "        if S[a + i] < S[b - i]:\n",
    "            left = True\n",
    "            break\n",
    "        elif S[a + i] > S[b - i]:\n",
    "            left = False\n",
    "            break\n",
    "        i += 1\n",
    "    if left:\n",
    "        ans += S[a]\n",
    "        a += 1\n",
    "    else:\n",
    "        ans += S[b]\n",
    "        b -= 1\n",
    "        \n",
    "print(ans)\n",
    "    \n",
    "    "
   ]
  },
  {
   "cell_type": "markdown",
   "metadata": {},
   "source": [
    "#### Saruman's Army\n",
    "今いる点において最善を繰り返す＝貪欲  \n",
    "印をつける一つ目の選び方が迷うかもしれないが、印をつけた点は左右をRの範囲でカバーできるので、左端から距離R以内で最も遠いところにあるものを選ぶ  \n"
   ]
  },
  {
   "cell_type": "code",
   "execution_count": 10,
   "metadata": {},
   "outputs": [
    {
     "name": "stdout",
     "output_type": "stream",
     "text": [
      "6 10\n",
      "1 7 15 20 30 50\n",
      "3\n",
      "[7, 30, 50]\n"
     ]
    }
   ],
   "source": [
    "N,R = map(int, input().split())\n",
    "X = list(map(int, input().split()))\n",
    "\n",
    "X.sort()\n",
    "\n",
    "ans = 0\n",
    "i = 0\n",
    "arr = []\n",
    "while i < N:\n",
    "    s = X[i] # カバーされてない点のうち一番左にあるもの\n",
    "    i += 1\n",
    "    # s+Rでカバーできなくなるところまでiを進める\n",
    "    while i < N and X[i] <= s + R: i += 1\n",
    "    # カバーできないインデックスの手前の所に印をつけてsからs+Rまでカバー\n",
    "    p = X[i-1]\n",
    "    arr.append(p)\n",
    "    # 印からさらにR分進める\n",
    "    while i < N and X[i] <= p + R: i += 1\n",
    "    ans += 1    \n",
    "print(ans)\n",
    "print(arr)"
   ]
  },
  {
   "cell_type": "markdown",
   "metadata": {},
   "source": [
    "#### フェンスのやつ\n",
    "8,5,8に分割する際、(16,5)->(8,8,5)とすると21+16=37のコストだが、(13,8)->(8,5,8)とすると21+13=34となる。  \n",
    "分割を進めて計算ではなく、「分割しきった状態からパーツをくっつけると出来上がった長さの分だけコストがかかる」のようにとらえると、毎回最小の組み合わせを取り出せばいい＝貪欲"
   ]
  },
  {
   "cell_type": "code",
   "execution_count": 13,
   "metadata": {},
   "outputs": [
    {
     "name": "stdout",
     "output_type": "stream",
     "text": [
      "3 4 5 1 2\n",
      "33\n"
     ]
    }
   ],
   "source": [
    "import heapq\n",
    "\n",
    "X = list(map(int, input().split()))\n",
    "heapq.heapify(X)\n",
    "ans = 0\n",
    "while len(X) > 1:\n",
    "    a = heapq.heappop(X)\n",
    "    b = heapq.heappop(X)\n",
    "    ans += a+b\n",
    "    heapq.heappush(X, a+b)\n",
    "    \n",
    "print(ans)"
   ]
  },
  {
   "cell_type": "markdown",
   "metadata": {},
   "source": [
    "以下けんちょんさん（@drken）の記事の本章の類題"
   ]
  },
  {
   "cell_type": "code",
   "execution_count": null,
   "metadata": {},
   "outputs": [],
   "source": [
    "\"\"\"\n",
    "AtCoder Regular Contest 061 C\n",
    "\n",
    "シンプルに全探索\n",
    "Sが長さ10までなので、十分間に合う\n",
    "\"\"\"\n",
    "\n",
    "S = input()\n",
    "\n",
    "\n",
    "def solve(n,S,idx):\n",
    "    ans = 0\n",
    "    if idx >= len(S):\n",
    "        return eval(n)\n",
    "\n",
    "    ans += solve(n+\"+\"+S[idx], S, idx+1)\n",
    "    ans += solve(n+S[idx], S, idx+1)\n",
    "    return ans\n",
    "\n",
    "if len(S) == 1:\n",
    "    print(S)\n",
    "else:\n",
    "    ans = solve(S[0], S, 1)\n",
    "    print(ans)"
   ]
  },
  {
   "cell_type": "code",
   "execution_count": null,
   "metadata": {},
   "outputs": [],
   "source": [
    "\n",
    "\"\"\"\n",
    "AtCoder Beginner Contest 079 C\n",
    "\n",
    "前の問題と同じ\n",
    "\n",
    "\"\"\"\n",
    "\n",
    "S = input()\n",
    "\n",
    "def solve(n, S, idx):\n",
    "\n",
    "    if len(n) == 7:\n",
    "        if eval(n) == 7:\n",
    "            n+=\"=7\"\n",
    "            print(n)\n",
    "            exit()\n",
    "        return\n",
    "\n",
    "    solve(n+\"+\"+S[idx], S,idx+1)\n",
    "    solve(n+\"-\"+S[idx], S,idx+1)\n",
    "\n",
    "solve(S[0], S, 1)"
   ]
  },
  {
   "cell_type": "code",
   "execution_count": null,
   "metadata": {},
   "outputs": [],
   "source": [
    "\"\"\"\n",
    "AtCoder Beginner Contest 104 C\n",
    "\n",
    "全探索\n",
    "ビット演算をいい感じにできると全体がスッキリまとまる\n",
    "\"\"\"\n",
    "\n",
    "import math\n",
    "D,G = map(int, input().split())\n",
    "\n",
    "p = [0] * D\n",
    "c = [0] * D\n",
    "\n",
    "for i in range(D):\n",
    "    p[i], c[i] = map(int, input().split())\n",
    "\n",
    "\n",
    "ans = 10000\n",
    "for n in range(2**D):\n",
    "    bnum = (bin(n)[2:]).zfill(D)\n",
    "    score = 0\n",
    "    cnt = 0\n",
    "    for i,s in enumerate(bnum):\n",
    "        if s == \"1\":\n",
    "            #print(i, p[i], s[i])\n",
    "            score += (i+1)*100*p[i] + c[i]\n",
    "            cnt += p[i]\n",
    "    \n",
    "    #print(score, bnum)\n",
    "    if score >= G:\n",
    "        ans = min(ans, cnt)\n",
    "    else:\n",
    "        for i,s in enumerate(reversed(bnum)):\n",
    "            if s == \"0\":\n",
    "                rest = G - score\n",
    "                if rest / ((D-i)*100) <= p[i]:\n",
    "                    #print(bnum, i, rest, cnt , math.ceil(rest / ((D-i)*100)))\n",
    "                    cnt += math.ceil(rest / ((D-i)*100))\n",
    "                    ans = min(ans, cnt)\n",
    "\n",
    "\n",
    "print(ans)"
   ]
  },
  {
   "cell_type": "code",
   "execution_count": null,
   "metadata": {},
   "outputs": [],
   "source": [
    "\"\"\"\n",
    "AtCoder Regular Contest 029 A\n",
    "\n",
    "初見時に４枚肉があるときは半分ずつ肉焼き機に乗せると勘違いしていたがそんなことはない\n",
    "\"\"\"\n",
    "N = int(input())\n",
    "\n",
    "t = [int(input()) for _ in range(N)]\n",
    "\n",
    "\n",
    "ans = sum(t)\n",
    "for n in range(2**N):\n",
    "    bnum = bin(n)[2:].zfill(N)\n",
    "    niku1 = 0\n",
    "    niku2 = 0\n",
    "    for i,c in enumerate(bnum):\n",
    "        if c == \"1\":\n",
    "            niku1 += t[i]\n",
    "        else:\n",
    "            niku2 += t[i]\n",
    "    ans = min(ans, max(niku1, niku2))\n",
    "print(ans)"
   ]
  },
  {
   "cell_type": "code",
   "execution_count": null,
   "metadata": {},
   "outputs": [],
   "source": [
    "\"\"\"\n",
    "AtCoder Beginner Contest 002 D\n",
    "\n",
    "交友関係の確認の所が若干めんどくさいが、それ以外は特に問題ない普通の全探索\n",
    "\"\"\"\n",
    "\n",
    "\n",
    "N,M = map(int, input().split())\n",
    "\n",
    "if M == 0:\n",
    "    print(1)\n",
    "    exit()\n",
    "\n",
    "r = []\n",
    "for _ in range(M):\n",
    "    x,y = map(int, input().split())\n",
    "    r.append((x-1, y-1))\n",
    "    #r.append((y-1, x-1))\n",
    "\n",
    "ans = 0\n",
    "for n in range(2**N):\n",
    "    bnum = bin(n)[2:].zfill(N)\n",
    "    check = dict()\n",
    "    for i in range(N-1):\n",
    "        if bnum[i] == \"0\": continue\n",
    "        for j in range(i+1, N):\n",
    "            if bnum[i] == \"1\" and bnum[j] == \"1\":\n",
    "                check[(i,j)] = False\n",
    "                check[(j,i)] = False\n",
    "        \n",
    "    for x,y in r:\n",
    "        check[(x, y)] = True\n",
    "        check[(y, x)] = True\n",
    "    flag = True\n",
    "    for x,y in check.keys():\n",
    "        if check[(x,y)] == False: flag = False\n",
    "\n",
    "\n",
    "    if flag:\n",
    "        ans = max(ans, bnum.count(\"1\"))\n",
    "\n",
    "print(max(ans, 1))"
   ]
  },
  {
   "cell_type": "code",
   "execution_count": null,
   "metadata": {},
   "outputs": [],
   "source": [
    "\"\"\"\n",
    "AtCoder Typical Contest 001 A\n",
    "\n",
    "迷路探索みたいなやつは深さ優先でやると再帰の最大回数を増やし忘れることが多いので注意\n",
    "キューとか使ってやるともう少しまとまりがよくなる気もする\n",
    "\"\"\"\n",
    "\n",
    "import sys\n",
    "\n",
    "sys.setrecursionlimit(10**8)\n",
    "\n",
    "H, W = map(int, input().split())\n",
    "\n",
    "area = [input() for _ in range(H)]\n",
    "\n",
    "sx, sy = 0, 0\n",
    "\n",
    "for i in range(H):\n",
    "    for j in range(W):\n",
    "        if area[i][j] == \"s\":\n",
    "            sx,sy = i,j\n",
    "\n",
    "checked = [[False for _ in range(W)] for _ in range(H)]\n",
    "\n",
    "def solve(i,j):\n",
    "\n",
    "    if checked[i][j]:\n",
    "        return\n",
    "\n",
    "    checked[i][j] = True\n",
    "\n",
    "    if area[i][j] == \"g\":\n",
    "        print(\"Yes\")\n",
    "        exit()\n",
    "\n",
    "    if area[i][j] == \"#\": return\n",
    "\n",
    "    if i+1 < H: solve(i+1,j)\n",
    "    if i-1 >= 0: solve(i-1,j)\n",
    "    if j+1 < W: solve(i, j+1)\n",
    "    if j-1 >= 0: solve(i, j-1)\n",
    "\n",
    "solve(sx,sy)\n",
    "\n",
    "print(\"No\")\n",
    "\n"
   ]
  },
  {
   "cell_type": "code",
   "execution_count": null,
   "metadata": {},
   "outputs": [],
   "source": [
    "\"\"\"\n",
    "第９回日本情報オリンピック 予選（オンライン） D\n",
    "\n",
    "itertools.permutaionsを使うと全列挙は一撃だが、Nが大きくなるとダメ。\n",
    "itertools自体の実装もしてみたい\n",
    "\"\"\"\n",
    "\n",
    "import itertools\n",
    "\n",
    "N = int(input())\n",
    "K = int(input())\n",
    "\n",
    "card = [(input()) for _ in range(N)]\n",
    "\n",
    "ans = set()\n",
    "\n",
    "for v in itertools.permutations(card, K):\n",
    "    s = \"\".join(v)\n",
    "    ans.add(s)\n",
    "\n",
    "print(len(ans))\n"
   ]
  }
 ],
 "metadata": {
  "kernelspec": {
   "display_name": "Python 3",
   "language": "python",
   "name": "python3"
  },
  "language_info": {
   "codemirror_mode": {
    "name": "ipython",
    "version": 3
   },
   "file_extension": ".py",
   "mimetype": "text/x-python",
   "name": "python",
   "nbconvert_exporter": "python",
   "pygments_lexer": "ipython3",
   "version": "3.6.5"
  }
 },
 "nbformat": 4,
 "nbformat_minor": 2
}