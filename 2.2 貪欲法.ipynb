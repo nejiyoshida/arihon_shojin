{
 "cells": [
  {
   "cell_type": "markdown",
   "metadata": {},
   "source": [
    "## 貪欲法\n",
    "DPや全探索は複数の状態における最善を調べる。  \n",
    "貪欲法はその場その場の最善の積み重ねで答えを出す。\n",
    "大きな硬貨から優先的に使うとか、大きな数値のカードから使うなど。"
   ]
  },
  {
   "cell_type": "code",
   "execution_count": 1,
   "metadata": {},
   "outputs": [
    {
     "name": "stdout",
     "output_type": "stream",
     "text": [
      "5\n",
      "1 3\n",
      "8 10\n",
      "2 5\n",
      "6 9\n",
      "4 7\n",
      "3\n"
     ]
    }
   ],
   "source": [
    "# 仕事の問題\n",
    "N = int(input())\n",
    "st = [tuple(map(int, input().split())) for _ in range(N)]\n",
    "st.sort(key = lambda x: x[1])\n",
    "\n",
    "current_time = 0\n",
    "cnt = 0\n",
    "for s,t in st:\n",
    "    if current_time < s:\n",
    "        current_time = t\n",
    "        cnt += 1\n",
    "        \n",
    "print(cnt)"
   ]
  },
  {
   "cell_type": "markdown",
   "metadata": {},
   "source": [
    "### 辞書順最小\n",
    "文字列を前と後ろから見ていくとき、先頭と最後尾だけ調べても答えが出ない  \n",
    "→逆順にした文字列と比較して貪欲"
   ]
  },
  {
   "cell_type": "code",
   "execution_count": 9,
   "metadata": {},
   "outputs": [
    {
     "name": "stdout",
     "output_type": "stream",
     "text": [
      "acdbcb\n",
      "abcbcd\n"
     ]
    }
   ],
   "source": [
    "S = input()\n",
    "N = len(S)\n",
    "\n",
    "a, b = 0, N - 1\n",
    "\n",
    "ans = \"\"\n",
    "while a <= b:\n",
    "    left = False\n",
    "    i = 0\n",
    "    while a + i <= b:\n",
    "        if S[a + i] < S[b - i]:\n",
    "            left = True\n",
    "            break\n",
    "        elif S[a + i] > S[b - i]:\n",
    "            left = False\n",
    "            break\n",
    "        i += 1\n",
    "    if left:\n",
    "        ans += S[a]\n",
    "        a += 1\n",
    "    else:\n",
    "        ans += S[b]\n",
    "        b -= 1\n",
    "        \n",
    "print(ans)\n",
    "    \n",
    "    "
   ]
  },
  {
   "cell_type": "markdown",
   "metadata": {},
   "source": [
    "#### Saruman's Army\n",
    "今いる点において最善を繰り返す＝貪欲  \n",
    "印をつける一つ目の選び方が迷うかもしれないが、印をつけた点は左右をRの範囲でカバーできるので、左端から距離R以内で最も遠いところにあるものを選ぶ  \n"
   ]
  },
  {
   "cell_type": "code",
   "execution_count": 10,
   "metadata": {},
   "outputs": [
    {
     "name": "stdout",
     "output_type": "stream",
     "text": [
      "6 10\n",
      "1 7 15 20 30 50\n",
      "3\n",
      "[7, 30, 50]\n"
     ]
    }
   ],
   "source": [
    "N,R = map(int, input().split())\n",
    "X = list(map(int, input().split()))\n",
    "\n",
    "X.sort()\n",
    "\n",
    "ans = 0\n",
    "i = 0\n",
    "arr = []\n",
    "while i < N:\n",
    "    s = X[i] # カバーされてない点のうち一番左にあるもの\n",
    "    i += 1\n",
    "    # s+Rでカバーできなくなるところまでiを進める\n",
    "    while i < N and X[i] <= s + R: i += 1\n",
    "    # カバーできないインデックスの手前の所に印をつけてsからs+Rまでカバー\n",
    "    p = X[i-1]\n",
    "    arr.append(p)\n",
    "    # 印からさらにR分進める\n",
    "    while i < N and X[i] <= p + R: i += 1\n",
    "    ans += 1    \n",
    "print(ans)\n",
    "print(arr)"
   ]
  },
  {
   "cell_type": "markdown",
   "metadata": {},
   "source": [
    "#### フェンスのやつ\n",
    "8,5,8に分割する際、(16,5)->(8,8,5)とすると21+16=37のコストだが、(13,8)->(8,5,8)とすると21+13=34となる。  \n",
    "分割を進めて計算ではなく、「分割しきった状態からパーツをくっつけると出来上がった長さの分だけコストがかかる」のようにとらえると、毎回最小の組み合わせを取り出せばいい＝貪欲"
   ]
  },
  {
   "cell_type": "code",
   "execution_count": 13,
   "metadata": {},
   "outputs": [
    {
     "name": "stdout",
     "output_type": "stream",
     "text": [
      "3 4 5 1 2\n",
      "33\n"
     ]
    }
   ],
   "source": [
    "import heapq\n",
    "\n",
    "X = list(map(int, input().split()))\n",
    "heapq.heapify(X)\n",
    "ans = 0\n",
    "while len(X) > 1:\n",
    "    a = heapq.heappop(X)\n",
    "    b = heapq.heappop(X)\n",
    "    ans += a+b\n",
    "    heapq.heappush(X, a+b)\n",
    "    \n",
    "print(ans)"
   ]
  },
  {
   "cell_type": "markdown",
   "metadata": {},
   "source": []
  }
 ],
 "metadata": {
  "kernelspec": {
   "display_name": "Python 3",
   "language": "python",
   "name": "python3"
  },
  "language_info": {
   "codemirror_mode": {
    "name": "ipython",
    "version": 3
   },
   "file_extension": ".py",
   "mimetype": "text/x-python",
   "name": "python",
   "nbconvert_exporter": "python",
   "pygments_lexer": "ipython3",
   "version": "3.6.5"
  }
 },
 "nbformat": 4,
 "nbformat_minor": 2
}
