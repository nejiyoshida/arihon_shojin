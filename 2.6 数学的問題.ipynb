{
 "cells": [
  {
   "cell_type": "markdown",
   "metadata": {},
   "source": [
    "## ユークリッドの互除法\n",
    "\n",
    "gcd(a,b) = gcd(b, a%b)\n",
    "\n",
    "\n",
    "gcd(a,b) = mとする。  \n",
    "a = bq + r と置くと、  \n",
    "・gcd(a,b) = m -> bq も r も m の倍数 -> r = a - bq もmの倍数  \n",
    "なので、aとbの公約数はbとrの公約数といえる。  \n",
    "bとrがmの倍数ということからも、同じようなことがいえる。\n",
    "\n",
    "O(log max(a,b))"
   ]
  },
  {
   "cell_type": "code",
   "execution_count": 2,
   "metadata": {},
   "outputs": [
    {
     "name": "stdout",
     "output_type": "stream",
     "text": [
      "39\n"
     ]
    }
   ],
   "source": [
    "def gcd(a,b):\n",
    "    if b == 0: return a\n",
    "    return gcd(b, a % b)\n",
    "\n",
    "print(gcd(390,273))"
   ]
  },
  {
   "cell_type": "code",
   "execution_count": 9,
   "metadata": {},
   "outputs": [
    {
     "name": "stdout",
     "output_type": "stream",
     "text": [
      "4\n",
      "3\n"
     ]
    }
   ],
   "source": [
    "\"\"\"\n",
    "格子点の個数問題\n",
    "\n",
    "傾き分進んだ所が格子点\n",
    "\n",
    "\"\"\"\n",
    "\n",
    "a,b = 1, 11\n",
    "c,d = 5, 3\n",
    "\n",
    "def gcd(a,b):\n",
    "\n",
    "    if b == 0: return a\n",
    "    return gcd(b, a % b)\n",
    "\n",
    "def gcd(a,b):\n",
    "    if b == 0: return a\n",
    "    return gcd(b, a % b)\n",
    "\n",
    "e = gcd(abs(a-c), abs(d-b))\n",
    "print(e)\n",
    "print(e-1)"
   ]
  },
  {
   "cell_type": "code",
   "execution_count": null,
   "metadata": {},
   "outputs": [],
   "source": [
    "\"\"\"\n",
    "双六の問題\n",
    "a*x + b*y = 1となるx,yを求める\n",
    "a,bは互いに素\n",
    "\n",
    "\n",
    "互いに素でない（gcd(a,b）が１以外の値になる）なら解はない\n",
    "\n",
    "b * x' + (a%b) * y' = gcd(a,b) の整数解x',y'が求まっているとすると、\n",
    "a % b = a - (a // b)*b\n",
    "これにより、上の式は、\n",
    "ay' + b(x' - (a//b)y') = gcd(a,b)\n",
    "\n",
    "b=0になるまで回すとaが決まる\n",
    "\"\"\"\n",
    "\"\"\"\n",
    "よくわからん\n",
    "https://juppy.hatenablog.com/entry/2018/10/29/%E8%9F%BB%E6%9C%AC_python_%E5%8F%8C%E5%85%AD_%E7%AB%B6%E6%8A%80%E3%83%97%E3%83%AD%E3%82%B0%E3%83%A9%E3%83%9F%E3%83%B3%E3%82%B0\n",
    "\n",
    "\n",
    "互いに素であれば何らかの値をかけたそれぞれを足し合わせれば1が作れるので、他の値も作れる\n",
    "\"\"\"\n",
    "\n",
    "def extgcd(a,b):\n",
    "    # これらの1が差にしたい値\n",
    "    r = [1,0,a]\n",
    "    w = [0,1,b]\n",
    "    print(r)\n",
    "    print(w)\n",
    "    #r：a*1 + b*0 = a　みたいな\n",
    "    #w：a*0 + b*1 = b　みたいな\n",
    "\n",
    "    while w[2]!=1:\n",
    "        q = r[2]//w[2] # aからbを何回取り出せるか\n",
    "        r2 = w\n",
    "        w2 = [r[0]-q*w[0],r[1]-q*w[1],r[2]-q*w[2]]\n",
    "        # 普通のgcdでa,b -> b, a % b みたいに移っていくように、r,w -> w, r % w のように遷移\n",
    "        # ********************** #\n",
    "        # 蟻本の解説で、ax + by = gcd が bx' + (a - (a // b))y' = gcd みたいになったのを思い出す（ちなみにy'の係数はa%bに当たる）\n",
    "        # ********************** #\n",
    "\n",
    " \n",
    "\n",
    "        #  r, w -> w, \n",
    "        r = r2\n",
    "        w = w2\n",
    "        print(\"^-------_\")\n",
    "        print(r)\n",
    "        print(w)\n",
    "    #[x,y]\n",
    "    return [w[0],w[1]]\n",
    "print(extgcd(7,23))\n",
    "\n",
    "\"\"\"\n",
    "print(extgcd(17,11))\n",
    "[1, -1, 6]\n",
    "[-1, 2, 5]\n",
    "[2, -3, 1]\n",
    "[2, -3]\n",
    "\n",
    "17*1 + 11*(-1) = 6\n",
    "17*(-1) + 11*2 = 5\n",
    "17*2 + 11*(-3) = 1\n",
    "\n",
    "\n",
    "\n",
    "\n",
    "[1, 0, 37]\n",
    "[0, 1, 11]\n",
    "^-------_\n",
    "[0, 1, 11]\n",
    "[1, -3, 4]\n",
    "^-------_\n",
    "[1, -3, 4]\n",
    "[-2, 7, 3]\n",
    "^-------_\n",
    "[-2, 7, 3]\n",
    "[3, -10, 1]\n",
    "[3, -10]\n",
    "-> 過去の情報を使って\n",
    "そのままだと37と11\n",
    "それらを使って4が作れる\n",
    "11と4から3が作れる\n",
    "4と3から1が作れる\n",
    "的な\n",
    "\"\"\"\n",
    "    "
   ]
  }
 ],
 "metadata": {
  "kernelspec": {
   "display_name": "Python 3",
   "language": "python",
   "name": "python3"
  },
  "language_info": {
   "codemirror_mode": {
    "name": "ipython",
    "version": 3
   },
   "file_extension": ".py",
   "mimetype": "text/x-python",
   "name": "python",
   "nbconvert_exporter": "python",
   "pygments_lexer": "ipython3",
   "version": "3.6.5"
  }
 },
 "nbformat": 4,
 "nbformat_minor": 2
}