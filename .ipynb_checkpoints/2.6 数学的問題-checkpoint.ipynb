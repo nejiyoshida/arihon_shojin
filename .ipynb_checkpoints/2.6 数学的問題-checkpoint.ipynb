{
 "cells": [
  {
   "cell_type": "markdown",
   "metadata": {},
   "source": [
    "## ユークリッドの互除法\n",
    "\n",
    "gcd(a,b) = gcd(b, a%b)\n",
    "\n",
    "\n",
    "gcd(a,b) = mとする。  \n",
    "a = bq + r と置くと、  \n",
    "・gcd(a,b) = m -> bq も r も m の倍数 -> r = a - bq もmの倍数  \n",
    "なので、aとbの公約数はbとrの公約数といえる。  \n",
    "bとrがmの倍数ということからも、同じようなことがいえる。\n",
    "\n",
    "O(log max(a,b))"
   ]
  },
  {
   "cell_type": "code",
   "execution_count": 2,
   "metadata": {},
   "outputs": [
    {
     "name": "stdout",
     "output_type": "stream",
     "text": [
      "39\n"
     ]
    }
   ],
   "source": [
    "def gcd(a,b):\n",
    "    if b == 0: return a\n",
    "    return gcd(b, a % b)\n",
    "\n",
    "print(gcd(390,273))"
   ]
  },
  {
   "cell_type": "code",
   "execution_count": 9,
   "metadata": {},
   "outputs": [
    {
     "name": "stdout",
     "output_type": "stream",
     "text": [
      "4\n",
      "3\n"
     ]
    }
   ],
   "source": [
    "\"\"\"\n",
    "格子点の個数問題\n",
    "\n",
    "傾き分進んだ所が格子点\n",
    "\n",
    "\"\"\"\n",
    "\n",
    "a,b = 1, 11\n",
    "c,d = 5, 3\n",
    "\n",
    "def gcd(a,b):\n",
    "\n",
    "    if b == 0: return a\n",
    "    return gcd(b, a % b)\n",
    "\n",
    "def gcd(a,b):\n",
    "    if b == 0: return a\n",
    "    return gcd(b, a % b)\n",
    "\n",
    "e = gcd(abs(a-c), abs(d-b))\n",
    "print(e)\n",
    "print(e-1)"
   ]
  },
  {
   "cell_type": "code",
   "execution_count": null,
   "metadata": {},
   "outputs": [],
   "source": []
  }
 ],
 "metadata": {
  "kernelspec": {
   "display_name": "Python 3",
   "language": "python",
   "name": "python3"
  },
  "language_info": {
   "codemirror_mode": {
    "name": "ipython",
    "version": 3
   },
   "file_extension": ".py",
   "mimetype": "text/x-python",
   "name": "python",
   "nbconvert_exporter": "python",
   "pygments_lexer": "ipython3",
   "version": "3.6.5"
  }
 },
 "nbformat": 4,
 "nbformat_minor": 2
}
