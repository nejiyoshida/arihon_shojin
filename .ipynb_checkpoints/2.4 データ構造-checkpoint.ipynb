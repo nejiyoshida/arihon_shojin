{
 "cells": [
  {
   "cell_type": "markdown",
   "metadata": {},
   "source": [
    "## ヒープキュー\n",
    "常に最大とか最小を出し入れしたいとき\n",
    "\n",
    "フェンスの問題は前回heapq使ったので飛ばす"
   ]
  },
  {
   "cell_type": "code",
   "execution_count": 4,
   "metadata": {},
   "outputs": [
    {
     "name": "stdout",
     "output_type": "stream",
     "text": [
      "4 25 10\n",
      "10 14 20 21\n",
      "10 5 2 4\n",
      "2\n"
     ]
    },
    {
     "data": {
      "text/plain": [
       "'\\ninput\\n\\n4 25 10\\n10 14 20 21\\n10 5 2 4\\n'"
      ]
     },
     "execution_count": 4,
     "metadata": {},
     "output_type": "execute_result"
    }
   ],
   "source": [
    "import heapq\n",
    "\n",
    "N,L,P = map(int, input().split())\n",
    "\n",
    "A = list(map(int, input().split()))\n",
    "B = list(map(int, input().split()))\n",
    "\n",
    "\n",
    "\"\"\"\n",
    "ガソリンスタンドを通過するたびに現在のガソリン量でそこまでたどり着けるか確認し\n",
    "無理なら終わりみたいな形にする。\n",
    "GSを通過できたらそこで補給できる分だけヒープに積んでおく\n",
    "\"\"\"\n",
    "A.append(L)\n",
    "B.append(0)\n",
    "\n",
    "curr = 0\n",
    "ans = 0\n",
    "q = []\n",
    "for i in range(N+1):\n",
    "    d = A[i] - curr # 次のGSまでの距離\n",
    "    P -= d\n",
    "    while P < 0:\n",
    "        if len(q) == 0:\n",
    "            print(-1)\n",
    "            exit()\n",
    "            \n",
    "        gas = heapq.heappop(q)\n",
    "        P += -gas\n",
    "        ans += 1\n",
    "        #print(i)\n",
    "    \n",
    "    heapq.heappush(q, -B[i])\n",
    "    curr = A[i]\n",
    "    \n",
    "print(ans)\n",
    "\n",
    "\n",
    "\"\"\"\n",
    "input\n",
    "\n",
    "4 25 10\n",
    "10 14 20 21\n",
    "10 5 2 4\n",
    "\n",
    "ans:2\n",
    "\"\"\""
   ]
  },
  {
   "cell_type": "markdown",
   "metadata": {},
   "source": [
    "## 二分探索木\n",
    "問題が載ってないのと、bisectでいい気がするので実装をやる\n",
    "\n",
    "参考は algorythm with python\n"
   ]
  },
  {
   "cell_type": "code",
   "execution_count": null,
   "metadata": {},
   "outputs": [],
   "source": []
  },
  {
   "cell_type": "markdown",
   "metadata": {},
   "source": [
    "## Union-FInd木"
   ]
  },
  {
   "cell_type": "code",
   "execution_count": null,
   "metadata": {},
   "outputs": [],
   "source": [
    "class UnionFind:\n",
    "    def __init__(self, N):\n",
    "        self.parent = [i for i in range(N)]\n",
    "        self.rank = [0] * N\n",
    "        self.count = 0\n",
    "        \n",
    "    def root(self, a):\n",
    "        if self.parent[a] == a:\n",
    "            return a\n",
    "        else:\n",
    "            self.parent[a] = self.root(self.parent[a])\n",
    "            return self.parent[a]\n",
    "        \n",
    "    def is_same(self, a, b):\n",
    "        reurn self.root(a) == self.root(b)\n",
    "        \n",
    "    def unite(self, a, b):\n",
    "        ra = self.root(a)\n",
    "        rb = self.root(b)\n",
    "        if ra == rb:\n",
    "            return\n",
    "        \n",
    "        if self.rank[ra] < self.rank[rb]:\n",
    "            self.parent[ra] = rb\n",
    "        else\n",
    "            self.parent[rb] = ra\n",
    "            if self.rank[ra] == self.rank[rb]:\n",
    "                se;f.rank[ra] += 1\n",
    "                \n",
    "        self.count += 1"
   ]
  }
 ],
 "metadata": {
  "kernelspec": {
   "display_name": "Python 3",
   "language": "python",
   "name": "python3"
  },
  "language_info": {
   "codemirror_mode": {
    "name": "ipython",
    "version": 3
   },
   "file_extension": ".py",
   "mimetype": "text/x-python",
   "name": "python",
   "nbconvert_exporter": "python",
   "pygments_lexer": "ipython3",
   "version": "3.6.5"
  }
 },
 "nbformat": 4,
 "nbformat_minor": 2
}
