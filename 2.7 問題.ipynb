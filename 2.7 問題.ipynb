{
 "cells": [
  {
   "cell_type": "code",
   "execution_count": null,
   "metadata": {},
   "outputs": [],
   "source": [
    "\"\"\"\n",
    "Google Code Jam 2008 Round 1A A\n",
    "\n",
    "\n",
    "それぞれのベクトルについて、その中で要素を自由に入れ替えられるので、一方は動かす必要はない\n",
    "smallケースは要素数が最大でも８なので、組み合わせが8!=40320なので全探索もできる\n",
    "largeケースは間に合わない\n",
    "内積を小さくしたいので、各要素の積の結果が小さくなると嬉しい\n",
    "なので、「xの中で大きい要素」と「ｙの中で小さい要素」の積を足していくと解ける\n",
    "\"\"\"\n",
    "\n",
    "x = list(map(int, input().split()))\n",
    "y = list(map(int, input().split()))\n",
    "\n",
    "x.sort()\n",
    "y.sort(reverse=True)\n",
    "\n",
    "ans = 0\n",
    "for i in range(len(x)):\n",
    "    ans += x[i]*y[i]\n",
    "\n",
    "print(ans)"
   ]
  },
  {
   "cell_type": "code",
   "execution_count": null,
   "metadata": {},
   "outputs": [],
   "source": [
    "\n",
    "\n",
    "\"\"\"\n",
    "Google Code Jam 2009 Round2 A\n",
    "\n",
    "\n",
    "数学的に解法を得るのは難しい\n",
    "上から順に、「i番目にいられる（対角線より下に１をもってこれる）、一番i行目に近いものを上に持ってくる」を上から順に繰り返すと操作回数が最小になる\n",
    "（上の行から順に最小操作で埋めていくため、全体で見ても最小操作回数になる）\n",
    "\"\"\"\n",
    "\n",
    "N = int(input())\n",
    "\n",
    "M = [input() for _ in range(N)]\n",
    "\n",
    "idx_last_one = [-1] * N\n",
    "for i in range(N):\n",
    "    for j in range(N):\n",
    "        if M[i][j] == \"1\":\n",
    "            idx_last_one[i] = j\n",
    "\n",
    "ans = 0\n",
    "for i in range(N):\n",
    "    # 上から順に決定していく\n",
    "    p = -1\n",
    "    for j in range(i,N):\n",
    "        # 対角線より上に１が来ないもので、一番iに近いものを選択\n",
    "        # この操作方法では、最後の１が残りの中で一番左にあるものが選ばれるわけではないが、\n",
    "        # 条件を満たすものができるし、今回の方法の方が移動回数が少なくできる\n",
    "        if idx_last_one[j] <= i:\n",
    "            p = j\n",
    "            break\n",
    "    # pの位置にあるものをiまで移動させる\n",
    "    for j in range(p,i,-1):\n",
    "        tmp = idx_last_one[j]\n",
    "        idx_last_one[j] = idx_last_one[j-1]\n",
    "        idx_last_one[j-1] = tmp\n",
    "        ans += 1\n",
    "\n",
    "print(ans)\n"
   ]
  }
 ],
 "metadata": {
  "kernelspec": {
   "display_name": "Python 3",
   "language": "python",
   "name": "python3"
  },
  "language_info": {
   "codemirror_mode": {
    "name": "ipython",
    "version": 3
   },
   "file_extension": ".py",
   "mimetype": "text/x-python",
   "name": "python",
   "nbconvert_exporter": "python",
   "pygments_lexer": "ipython3",
   "version": "3.6.5"
  }
 },
 "nbformat": 4,
 "nbformat_minor": 2
}